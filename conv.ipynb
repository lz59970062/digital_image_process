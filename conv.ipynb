{
 "cells": [
  {
   "cell_type": "code",
   "execution_count": 4,
   "metadata": {},
   "outputs": [],
   "source": [
    "import cv2\n",
    "import numpy as np "
   ]
  },
  {
   "cell_type": "code",
   "execution_count": 5,
   "metadata": {},
   "outputs": [],
   "source": [
    "A=np.array([[1,2,3],[4,5,6],[7,8,9]])\n",
    "b=np.array([1,2,3,4]).reshape(2,2)\n"
   ]
  },
  {
   "cell_type": "code",
   "execution_count": 23,
   "metadata": {},
   "outputs": [],
   "source": [
    "import numpy as np\n",
    "from scipy.signal import convolve2d\n",
    "\n",
    "# 创建两个二维数组\n",
    "A = np.array([[1, 2, 3], [4, 5, 6], [7, 8, 9]])\n",
    "B = np.array([[1, 2], [3, 4]])\n",
    "B=B[::-1,::-1]\n",
    "C = convolve2d(A, B, mode='same')\n",
    "M=[12, 20, 15, 21,\n",
    "14, 16, 6, 8,\n",
    "10, 7, 3, 12,\n",
    "5, 8 ,7, 11]\n",
    "M=np.array(M).reshape(4,4)\n"
   ]
  },
  {
   "cell_type": "code",
   "execution_count": 24,
   "metadata": {},
   "outputs": [
    {
     "data": {
      "text/plain": [
       "array([[12, 20, 15, 21],\n",
       "       [14, 16,  6,  8],\n",
       "       [10,  7,  3, 12],\n",
       "       [ 5,  8,  7, 11]])"
      ]
     },
     "execution_count": 24,
     "metadata": {},
     "output_type": "execute_result"
    }
   ],
   "source": [
    "M"
   ]
  },
  {
   "cell_type": "code",
   "execution_count": 25,
   "metadata": {},
   "outputs": [
    {
     "data": {
      "text/plain": [
       "array([[ 6.88888889,  9.22222222,  9.55555556,  5.55555556],\n",
       "       [ 8.77777778, 11.44444444, 12.        ,  7.22222222],\n",
       "       [ 6.66666667,  8.44444444,  8.66666667,  5.22222222],\n",
       "       [ 3.33333333,  4.44444444,  5.33333333,  3.66666667]])"
      ]
     },
     "execution_count": 25,
     "metadata": {},
     "output_type": "execute_result"
    }
   ],
   "source": [
    "mean_kernel = np.ones((3,3))/9\n",
    "mean=convolve2d(M,mean_kernel,mode='same')"
   ]
  },
  {
   "cell_type": "code",
   "execution_count": 15,
   "metadata": {},
   "outputs": [],
   "source": [
    " \n",
    "k=np.array([-1,1])\n",
    "k=k[::-1]"
   ]
  }
 ],
 "metadata": {
  "kernelspec": {
   "display_name": "base",
   "language": "python",
   "name": "python3"
  },
  "language_info": {
   "codemirror_mode": {
    "name": "ipython",
    "version": 3
   },
   "file_extension": ".py",
   "mimetype": "text/x-python",
   "name": "python",
   "nbconvert_exporter": "python",
   "pygments_lexer": "ipython3",
   "version": "3.9.12"
  },
  "orig_nbformat": 4
 },
 "nbformat": 4,
 "nbformat_minor": 2
}
